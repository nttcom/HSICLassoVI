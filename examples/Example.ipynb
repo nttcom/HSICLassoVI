{
 "cells": [
  {
   "cell_type": "code",
   "execution_count": 1,
   "metadata": {},
   "outputs": [],
   "source": [
    "from HSICLassoVI.models import api"
   ]
  },
  {
   "cell_type": "code",
   "execution_count": 2,
   "metadata": {},
   "outputs": [],
   "source": [
    "%matplotlib inline\n",
    "\n",
    "import numpy as np\n",
    "import matplotlib.pyplot as plt\n",
    "import seaborn as sns\n",
    "import pandas as pd\n",
    "from sklearn.metrics import *"
   ]
  },
  {
   "cell_type": "markdown",
   "metadata": {},
   "source": [
    "## Data1: Additive model"
   ]
  },
  {
   "cell_type": "code",
   "execution_count": 3,
   "metadata": {},
   "outputs": [],
   "source": [
    "N, P = 1000, 256\n",
    "mean = np.zeros(P)\n",
    "cov = np.eye(P)\n",
    "np.random.seed(1)"
   ]
  },
  {
   "cell_type": "markdown",
   "metadata": {},
   "source": [
    "$$\n",
    "y\\in\\mathbb{R}^{1000}, X\\in\\mathbb{R}^{1000\\times256}\n",
    "$$"
   ]
  },
  {
   "cell_type": "code",
   "execution_count": 4,
   "metadata": {},
   "outputs": [],
   "source": [
    "X = np.random.multivariate_normal(mean = mean, cov = cov, size = N)\n",
    "y = -2*np.sin(2*X[:,0]) + np.power(X[:,1],2) + X[:,2] + np.exp(-X[:,3]) + np.random.normal(loc=0, scale=1, size=N)"
   ]
  },
  {
   "cell_type": "markdown",
   "metadata": {},
   "source": [
    "$$\n",
    "y=-2\\sin(2X_1)+X_2^2+X_3+\\exp(-X_4)+\\epsilon\n",
    "$$"
   ]
  },
  {
   "cell_type": "code",
   "execution_count": 5,
   "metadata": {},
   "outputs": [
    {
     "data": {
      "text/html": [
       "<div>\n",
       "<style scoped>\n",
       "    .dataframe tbody tr th:only-of-type {\n",
       "        vertical-align: middle;\n",
       "    }\n",
       "\n",
       "    .dataframe tbody tr th {\n",
       "        vertical-align: top;\n",
       "    }\n",
       "\n",
       "    .dataframe thead th {\n",
       "        text-align: right;\n",
       "    }\n",
       "</style>\n",
       "<table border=\"1\" class=\"dataframe\">\n",
       "  <thead>\n",
       "    <tr style=\"text-align: right;\">\n",
       "      <th></th>\n",
       "      <th>y</th>\n",
       "      <th>X1</th>\n",
       "      <th>X2</th>\n",
       "      <th>X3</th>\n",
       "      <th>X4</th>\n",
       "      <th>X5</th>\n",
       "      <th>X6</th>\n",
       "      <th>X7</th>\n",
       "      <th>X8</th>\n",
       "      <th>X9</th>\n",
       "      <th>...</th>\n",
       "      <th>X247</th>\n",
       "      <th>X248</th>\n",
       "      <th>X249</th>\n",
       "      <th>X250</th>\n",
       "      <th>X251</th>\n",
       "      <th>X252</th>\n",
       "      <th>X253</th>\n",
       "      <th>X254</th>\n",
       "      <th>X255</th>\n",
       "      <th>X256</th>\n",
       "    </tr>\n",
       "  </thead>\n",
       "  <tbody>\n",
       "    <tr>\n",
       "      <td>count</td>\n",
       "      <td>1000.000000</td>\n",
       "      <td>1000.000000</td>\n",
       "      <td>1000.000000</td>\n",
       "      <td>1000.000000</td>\n",
       "      <td>1000.000000</td>\n",
       "      <td>1000.000000</td>\n",
       "      <td>1000.000000</td>\n",
       "      <td>1000.000000</td>\n",
       "      <td>1000.000000</td>\n",
       "      <td>1000.000000</td>\n",
       "      <td>...</td>\n",
       "      <td>1000.000000</td>\n",
       "      <td>1000.000000</td>\n",
       "      <td>1000.000000</td>\n",
       "      <td>1000.000000</td>\n",
       "      <td>1000.000000</td>\n",
       "      <td>1000.000000</td>\n",
       "      <td>1000.000000</td>\n",
       "      <td>1000.000000</td>\n",
       "      <td>1000.000000</td>\n",
       "      <td>1000.000000</td>\n",
       "    </tr>\n",
       "    <tr>\n",
       "      <td>mean</td>\n",
       "      <td>2.623418</td>\n",
       "      <td>0.035265</td>\n",
       "      <td>-0.016246</td>\n",
       "      <td>-0.019422</td>\n",
       "      <td>-0.014176</td>\n",
       "      <td>-0.006667</td>\n",
       "      <td>-0.021556</td>\n",
       "      <td>0.063818</td>\n",
       "      <td>0.019090</td>\n",
       "      <td>0.053621</td>\n",
       "      <td>...</td>\n",
       "      <td>-0.000810</td>\n",
       "      <td>0.002730</td>\n",
       "      <td>0.031753</td>\n",
       "      <td>0.017365</td>\n",
       "      <td>0.052825</td>\n",
       "      <td>-0.039389</td>\n",
       "      <td>0.006775</td>\n",
       "      <td>0.004025</td>\n",
       "      <td>0.067993</td>\n",
       "      <td>0.026414</td>\n",
       "    </tr>\n",
       "    <tr>\n",
       "      <td>std</td>\n",
       "      <td>3.171087</td>\n",
       "      <td>0.960858</td>\n",
       "      <td>1.008259</td>\n",
       "      <td>0.984227</td>\n",
       "      <td>0.997292</td>\n",
       "      <td>0.985489</td>\n",
       "      <td>1.005595</td>\n",
       "      <td>0.983818</td>\n",
       "      <td>1.002825</td>\n",
       "      <td>0.960739</td>\n",
       "      <td>...</td>\n",
       "      <td>0.994915</td>\n",
       "      <td>1.002630</td>\n",
       "      <td>1.009359</td>\n",
       "      <td>0.972909</td>\n",
       "      <td>1.043013</td>\n",
       "      <td>0.990642</td>\n",
       "      <td>0.965017</td>\n",
       "      <td>1.027639</td>\n",
       "      <td>1.009999</td>\n",
       "      <td>1.016014</td>\n",
       "    </tr>\n",
       "    <tr>\n",
       "      <td>min</td>\n",
       "      <td>-3.726762</td>\n",
       "      <td>-3.010532</td>\n",
       "      <td>-2.893541</td>\n",
       "      <td>-3.341487</td>\n",
       "      <td>-3.078955</td>\n",
       "      <td>-2.578108</td>\n",
       "      <td>-4.013615</td>\n",
       "      <td>-3.484873</td>\n",
       "      <td>-3.292884</td>\n",
       "      <td>-2.787861</td>\n",
       "      <td>...</td>\n",
       "      <td>-2.994682</td>\n",
       "      <td>-3.173462</td>\n",
       "      <td>-3.158534</td>\n",
       "      <td>-3.472781</td>\n",
       "      <td>-2.985545</td>\n",
       "      <td>-3.469917</td>\n",
       "      <td>-3.344767</td>\n",
       "      <td>-2.882288</td>\n",
       "      <td>-3.085308</td>\n",
       "      <td>-3.248678</td>\n",
       "    </tr>\n",
       "    <tr>\n",
       "      <td>25%</td>\n",
       "      <td>0.537925</td>\n",
       "      <td>-0.635812</td>\n",
       "      <td>-0.691061</td>\n",
       "      <td>-0.698757</td>\n",
       "      <td>-0.666415</td>\n",
       "      <td>-0.708603</td>\n",
       "      <td>-0.704627</td>\n",
       "      <td>-0.564776</td>\n",
       "      <td>-0.631690</td>\n",
       "      <td>-0.613186</td>\n",
       "      <td>...</td>\n",
       "      <td>-0.676884</td>\n",
       "      <td>-0.679439</td>\n",
       "      <td>-0.667475</td>\n",
       "      <td>-0.645996</td>\n",
       "      <td>-0.659462</td>\n",
       "      <td>-0.705920</td>\n",
       "      <td>-0.624491</td>\n",
       "      <td>-0.650030</td>\n",
       "      <td>-0.622858</td>\n",
       "      <td>-0.631748</td>\n",
       "    </tr>\n",
       "    <tr>\n",
       "      <td>50%</td>\n",
       "      <td>2.249619</td>\n",
       "      <td>0.036512</td>\n",
       "      <td>0.003967</td>\n",
       "      <td>-0.020841</td>\n",
       "      <td>-0.035319</td>\n",
       "      <td>-0.007149</td>\n",
       "      <td>-0.021925</td>\n",
       "      <td>0.038020</td>\n",
       "      <td>0.046213</td>\n",
       "      <td>0.050136</td>\n",
       "      <td>...</td>\n",
       "      <td>0.004802</td>\n",
       "      <td>-0.035399</td>\n",
       "      <td>0.022757</td>\n",
       "      <td>0.007209</td>\n",
       "      <td>0.043041</td>\n",
       "      <td>-0.090467</td>\n",
       "      <td>0.008709</td>\n",
       "      <td>0.004076</td>\n",
       "      <td>0.039588</td>\n",
       "      <td>0.045184</td>\n",
       "    </tr>\n",
       "    <tr>\n",
       "      <td>75%</td>\n",
       "      <td>4.209089</td>\n",
       "      <td>0.705546</td>\n",
       "      <td>0.649284</td>\n",
       "      <td>0.672131</td>\n",
       "      <td>0.649913</td>\n",
       "      <td>0.607629</td>\n",
       "      <td>0.618760</td>\n",
       "      <td>0.722198</td>\n",
       "      <td>0.711011</td>\n",
       "      <td>0.701994</td>\n",
       "      <td>...</td>\n",
       "      <td>0.657753</td>\n",
       "      <td>0.651482</td>\n",
       "      <td>0.709628</td>\n",
       "      <td>0.689865</td>\n",
       "      <td>0.781994</td>\n",
       "      <td>0.635642</td>\n",
       "      <td>0.696140</td>\n",
       "      <td>0.626321</td>\n",
       "      <td>0.795087</td>\n",
       "      <td>0.667702</td>\n",
       "    </tr>\n",
       "    <tr>\n",
       "      <td>max</td>\n",
       "      <td>22.650050</td>\n",
       "      <td>2.952039</td>\n",
       "      <td>2.649644</td>\n",
       "      <td>2.826621</td>\n",
       "      <td>2.844635</td>\n",
       "      <td>2.734620</td>\n",
       "      <td>3.103622</td>\n",
       "      <td>3.696038</td>\n",
       "      <td>3.171971</td>\n",
       "      <td>3.157127</td>\n",
       "      <td>...</td>\n",
       "      <td>3.162906</td>\n",
       "      <td>3.389420</td>\n",
       "      <td>4.029365</td>\n",
       "      <td>3.216466</td>\n",
       "      <td>3.302137</td>\n",
       "      <td>3.845935</td>\n",
       "      <td>2.938031</td>\n",
       "      <td>3.951352</td>\n",
       "      <td>3.174535</td>\n",
       "      <td>3.427216</td>\n",
       "    </tr>\n",
       "  </tbody>\n",
       "</table>\n",
       "<p>8 rows × 257 columns</p>\n",
       "</div>"
      ],
      "text/plain": [
       "                 y           X1           X2           X3           X4  \\\n",
       "count  1000.000000  1000.000000  1000.000000  1000.000000  1000.000000   \n",
       "mean      2.623418     0.035265    -0.016246    -0.019422    -0.014176   \n",
       "std       3.171087     0.960858     1.008259     0.984227     0.997292   \n",
       "min      -3.726762    -3.010532    -2.893541    -3.341487    -3.078955   \n",
       "25%       0.537925    -0.635812    -0.691061    -0.698757    -0.666415   \n",
       "50%       2.249619     0.036512     0.003967    -0.020841    -0.035319   \n",
       "75%       4.209089     0.705546     0.649284     0.672131     0.649913   \n",
       "max      22.650050     2.952039     2.649644     2.826621     2.844635   \n",
       "\n",
       "                X5           X6           X7           X8           X9  ...  \\\n",
       "count  1000.000000  1000.000000  1000.000000  1000.000000  1000.000000  ...   \n",
       "mean     -0.006667    -0.021556     0.063818     0.019090     0.053621  ...   \n",
       "std       0.985489     1.005595     0.983818     1.002825     0.960739  ...   \n",
       "min      -2.578108    -4.013615    -3.484873    -3.292884    -2.787861  ...   \n",
       "25%      -0.708603    -0.704627    -0.564776    -0.631690    -0.613186  ...   \n",
       "50%      -0.007149    -0.021925     0.038020     0.046213     0.050136  ...   \n",
       "75%       0.607629     0.618760     0.722198     0.711011     0.701994  ...   \n",
       "max       2.734620     3.103622     3.696038     3.171971     3.157127  ...   \n",
       "\n",
       "              X247         X248         X249         X250         X251  \\\n",
       "count  1000.000000  1000.000000  1000.000000  1000.000000  1000.000000   \n",
       "mean     -0.000810     0.002730     0.031753     0.017365     0.052825   \n",
       "std       0.994915     1.002630     1.009359     0.972909     1.043013   \n",
       "min      -2.994682    -3.173462    -3.158534    -3.472781    -2.985545   \n",
       "25%      -0.676884    -0.679439    -0.667475    -0.645996    -0.659462   \n",
       "50%       0.004802    -0.035399     0.022757     0.007209     0.043041   \n",
       "75%       0.657753     0.651482     0.709628     0.689865     0.781994   \n",
       "max       3.162906     3.389420     4.029365     3.216466     3.302137   \n",
       "\n",
       "              X252         X253         X254         X255         X256  \n",
       "count  1000.000000  1000.000000  1000.000000  1000.000000  1000.000000  \n",
       "mean     -0.039389     0.006775     0.004025     0.067993     0.026414  \n",
       "std       0.990642     0.965017     1.027639     1.009999     1.016014  \n",
       "min      -3.469917    -3.344767    -2.882288    -3.085308    -3.248678  \n",
       "25%      -0.705920    -0.624491    -0.650030    -0.622858    -0.631748  \n",
       "50%      -0.090467     0.008709     0.004076     0.039588     0.045184  \n",
       "75%       0.635642     0.696140     0.626321     0.795087     0.667702  \n",
       "max       3.845935     2.938031     3.951352     3.174535     3.427216  \n",
       "\n",
       "[8 rows x 257 columns]"
      ]
     },
     "execution_count": 5,
     "metadata": {},
     "output_type": "execute_result"
    }
   ],
   "source": [
    "data1 = pd.DataFrame(np.c_[y.reshape(-1,1),X], columns = ['y'] + [f'X{p+1}' for p in range(P)])\n",
    "data1.describe()"
   ]
  },
  {
   "cell_type": "markdown",
   "metadata": {},
   "source": [
    "### Proposed (HSIC)"
   ]
  },
  {
   "cell_type": "code",
   "execution_count": 6,
   "metadata": {},
   "outputs": [
    {
     "data": {
      "text/plain": [
       "True"
      ]
     },
     "execution_count": 6,
     "metadata": {},
     "output_type": "execute_result"
    }
   ],
   "source": [
    "model_PH1 = api.Proposed_HSIC_Lasso(lam = [np.inf, 1e-5])\n",
    "model_PH1.input(X,y,featname = data1.columns[1:])"
   ]
  },
  {
   "cell_type": "code",
   "execution_count": 7,
   "metadata": {},
   "outputs": [
    {
     "name": "stdout",
     "output_type": "stream",
     "text": [
      "Block HSIC Lasso B = 20.\n",
      "M set to 3.\n",
      "Using Gaussian kernel for the features and Gaussian kernel for the target.\n"
     ]
    }
   ],
   "source": [
    "model_PH1.regression_multi(kernels=['Gaussian'])"
   ]
  },
  {
   "cell_type": "code",
   "execution_count": 8,
   "metadata": {},
   "outputs": [
    {
     "data": {
      "image/png": "[encoded data removed]",
      "text/plain": [
       "<Figure size 1600x1200 with 1 Axes>"
      ]
     },
     "metadata": {
      "needs_background": "light"
     },
     "output_type": "display_data"
    }
   ],
   "source": [
    "plt.figure(figsize=[8,6], dpi=200)\n",
    "plt.bar(np.arange(20),model_PH1.get_index_score()[:20])\n",
    "plt.xticks(np.arange(20),model_PH1.get_features()[:20], rotation=40)\n",
    "plt.grid()\n",
    "plt.show()"
   ]
  },
  {
   "cell_type": "markdown",
   "metadata": {},
   "source": [
    "### Proposed (NOCCO)"
   ]
  },
  {
   "cell_type": "code",
   "execution_count": 9,
   "metadata": {},
   "outputs": [
    {
     "data": {
      "text/plain": [
       "True"
      ]
     },
     "execution_count": 9,
     "metadata": {},
     "output_type": "execute_result"
    }
   ],
   "source": [
    "model_PN1 = api.Proposed_NOCCO_Lasso(lam = [np.inf, 5e-5], eps = 1e-3)\n",
    "model_PN1.input(X,y,featname = data1.columns[1:])"
   ]
  },
  {
   "cell_type": "code",
   "execution_count": 10,
   "metadata": {},
   "outputs": [
    {
     "name": "stdout",
     "output_type": "stream",
     "text": [
      "Block HSIC Lasso B = 20.\n",
      "M set to 3.\n",
      "Using Gaussian kernel for the features and Gaussian kernel for the target.\n"
     ]
    }
   ],
   "source": [
    "model_PN1.regression_multi(kernels=['Gaussian'])"
   ]
  },
  {
   "cell_type": "code",
   "execution_count": 11,
   "metadata": {},
   "outputs": [
    {
     "data": {
      "image/png": "[encoded data removed]",
      "text/plain": [
       "<Figure size 1600x1200 with 1 Axes>"
      ]
     },
     "metadata": {
      "needs_background": "light"
     },
     "output_type": "display_data"
    }
   ],
   "source": [
    "plt.figure(figsize=[8,6], dpi=200)\n",
    "plt.bar(np.arange(20),model_PN1.get_index_score()[:20])\n",
    "plt.xticks(np.arange(20),model_PN1.get_features()[:20], rotation=40)\n",
    "plt.grid()\n",
    "plt.show()"
   ]
  },
  {
   "cell_type": "markdown",
   "metadata": {},
   "source": [
    "## Data2: Non-additive model"
   ]
  },
  {
   "cell_type": "code",
   "execution_count": 12,
   "metadata": {},
   "outputs": [],
   "source": [
    "N, P = 1000, 1000\n",
    "mean = np.zeros(P)\n",
    "cov = np.eye(P)\n",
    "np.random.seed(2)"
   ]
  },
  {
   "cell_type": "markdown",
   "metadata": {},
   "source": [
    "$$\n",
    "y\\in\\mathbb{R}^{1000}, X\\in\\mathbb{R}^{1000\\times1000}\n",
    "$$"
   ]
  },
  {
   "cell_type": "code",
   "execution_count": 13,
   "metadata": {},
   "outputs": [],
   "source": [
    "X = np.random.multivariate_normal(mean = mean, cov = cov, size = N)\n",
    "y = X[:,0] * np.exp(2 * X[:,1]) + X[:,2]**2 + np.random.normal(loc=0, scale=1, size=N)"
   ]
  },
  {
   "cell_type": "markdown",
   "metadata": {},
   "source": [
    "$$\n",
    "y=X_1\\exp(2X_2)+X_3^2+\\epsilon\n",
    "$$"
   ]
  },
  {
   "cell_type": "code",
   "execution_count": 14,
   "metadata": {},
   "outputs": [
    {
     "data": {
      "text/html": [
       "<div>\n",
       "<style scoped>\n",
       "    .dataframe tbody tr th:only-of-type {\n",
       "        vertical-align: middle;\n",
       "    }\n",
       "\n",
       "    .dataframe tbody tr th {\n",
       "        vertical-align: top;\n",
       "    }\n",
       "\n",
       "    .dataframe thead th {\n",
       "        text-align: right;\n",
       "    }\n",
       "</style>\n",
       "<table border=\"1\" class=\"dataframe\">\n",
       "  <thead>\n",
       "    <tr style=\"text-align: right;\">\n",
       "      <th></th>\n",
       "      <th>y</th>\n",
       "      <th>X1</th>\n",
       "      <th>X2</th>\n",
       "      <th>X3</th>\n",
       "      <th>X4</th>\n",
       "      <th>X5</th>\n",
       "      <th>X6</th>\n",
       "      <th>X7</th>\n",
       "      <th>X8</th>\n",
       "      <th>X9</th>\n",
       "      <th>...</th>\n",
       "      <th>X991</th>\n",
       "      <th>X992</th>\n",
       "      <th>X993</th>\n",
       "      <th>X994</th>\n",
       "      <th>X995</th>\n",
       "      <th>X996</th>\n",
       "      <th>X997</th>\n",
       "      <th>X998</th>\n",
       "      <th>X999</th>\n",
       "      <th>X1000</th>\n",
       "    </tr>\n",
       "  </thead>\n",
       "  <tbody>\n",
       "    <tr>\n",
       "      <td>count</td>\n",
       "      <td>1000.000000</td>\n",
       "      <td>1000.000000</td>\n",
       "      <td>1000.000000</td>\n",
       "      <td>1000.000000</td>\n",
       "      <td>1000.000000</td>\n",
       "      <td>1000.000000</td>\n",
       "      <td>1000.000000</td>\n",
       "      <td>1000.000000</td>\n",
       "      <td>1000.000000</td>\n",
       "      <td>1000.000000</td>\n",
       "      <td>...</td>\n",
       "      <td>1000.000000</td>\n",
       "      <td>1000.000000</td>\n",
       "      <td>1000.000000</td>\n",
       "      <td>1000.000000</td>\n",
       "      <td>1000.000000</td>\n",
       "      <td>1000.000000</td>\n",
       "      <td>1000.000000</td>\n",
       "      <td>1000.000000</td>\n",
       "      <td>1000.000000</td>\n",
       "      <td>1000.000000</td>\n",
       "    </tr>\n",
       "    <tr>\n",
       "      <td>mean</td>\n",
       "      <td>0.973463</td>\n",
       "      <td>0.023288</td>\n",
       "      <td>-0.049999</td>\n",
       "      <td>0.035428</td>\n",
       "      <td>-0.001712</td>\n",
       "      <td>0.015169</td>\n",
       "      <td>-0.008052</td>\n",
       "      <td>-0.029885</td>\n",
       "      <td>-0.012755</td>\n",
       "      <td>0.040996</td>\n",
       "      <td>...</td>\n",
       "      <td>0.044867</td>\n",
       "      <td>-0.003113</td>\n",
       "      <td>0.015413</td>\n",
       "      <td>0.023625</td>\n",
       "      <td>-0.035813</td>\n",
       "      <td>0.043011</td>\n",
       "      <td>0.051107</td>\n",
       "      <td>0.005640</td>\n",
       "      <td>0.010450</td>\n",
       "      <td>0.018511</td>\n",
       "    </tr>\n",
       "    <tr>\n",
       "      <td>std</td>\n",
       "      <td>13.256483</td>\n",
       "      <td>0.991841</td>\n",
       "      <td>1.006799</td>\n",
       "      <td>1.014789</td>\n",
       "      <td>1.028246</td>\n",
       "      <td>1.021380</td>\n",
       "      <td>0.955916</td>\n",
       "      <td>1.010338</td>\n",
       "      <td>1.022051</td>\n",
       "      <td>0.961945</td>\n",
       "      <td>...</td>\n",
       "      <td>0.982041</td>\n",
       "      <td>0.965937</td>\n",
       "      <td>0.968151</td>\n",
       "      <td>1.007564</td>\n",
       "      <td>0.970728</td>\n",
       "      <td>0.957619</td>\n",
       "      <td>0.957190</td>\n",
       "      <td>1.027877</td>\n",
       "      <td>0.999896</td>\n",
       "      <td>1.008089</td>\n",
       "    </tr>\n",
       "    <tr>\n",
       "      <td>min</td>\n",
       "      <td>-238.664375</td>\n",
       "      <td>-2.803930</td>\n",
       "      <td>-3.040821</td>\n",
       "      <td>-3.131877</td>\n",
       "      <td>-2.948815</td>\n",
       "      <td>-3.531438</td>\n",
       "      <td>-3.377890</td>\n",
       "      <td>-3.829989</td>\n",
       "      <td>-4.109165</td>\n",
       "      <td>-3.233004</td>\n",
       "      <td>...</td>\n",
       "      <td>-2.668022</td>\n",
       "      <td>-2.925431</td>\n",
       "      <td>-3.334320</td>\n",
       "      <td>-2.781584</td>\n",
       "      <td>-3.856230</td>\n",
       "      <td>-2.676957</td>\n",
       "      <td>-2.896714</td>\n",
       "      <td>-3.167082</td>\n",
       "      <td>-3.760697</td>\n",
       "      <td>-3.658034</td>\n",
       "    </tr>\n",
       "    <tr>\n",
       "      <td>25%</td>\n",
       "      <td>-0.619232</td>\n",
       "      <td>-0.669358</td>\n",
       "      <td>-0.713947</td>\n",
       "      <td>-0.629200</td>\n",
       "      <td>-0.666953</td>\n",
       "      <td>-0.612824</td>\n",
       "      <td>-0.645238</td>\n",
       "      <td>-0.650667</td>\n",
       "      <td>-0.727027</td>\n",
       "      <td>-0.613812</td>\n",
       "      <td>...</td>\n",
       "      <td>-0.615754</td>\n",
       "      <td>-0.650306</td>\n",
       "      <td>-0.632708</td>\n",
       "      <td>-0.682130</td>\n",
       "      <td>-0.665218</td>\n",
       "      <td>-0.623901</td>\n",
       "      <td>-0.632976</td>\n",
       "      <td>-0.711479</td>\n",
       "      <td>-0.674730</td>\n",
       "      <td>-0.663400</td>\n",
       "    </tr>\n",
       "    <tr>\n",
       "      <td>50%</td>\n",
       "      <td>0.788955</td>\n",
       "      <td>0.027602</td>\n",
       "      <td>-0.039843</td>\n",
       "      <td>-0.014024</td>\n",
       "      <td>0.037908</td>\n",
       "      <td>0.054550</td>\n",
       "      <td>0.008866</td>\n",
       "      <td>-0.061064</td>\n",
       "      <td>0.013491</td>\n",
       "      <td>0.019829</td>\n",
       "      <td>...</td>\n",
       "      <td>0.061542</td>\n",
       "      <td>0.005622</td>\n",
       "      <td>0.053131</td>\n",
       "      <td>0.050225</td>\n",
       "      <td>-0.061419</td>\n",
       "      <td>0.098674</td>\n",
       "      <td>0.051580</td>\n",
       "      <td>0.022772</td>\n",
       "      <td>-0.017848</td>\n",
       "      <td>0.009733</td>\n",
       "    </tr>\n",
       "    <tr>\n",
       "      <td>75%</td>\n",
       "      <td>2.374469</td>\n",
       "      <td>0.687430</td>\n",
       "      <td>0.642530</td>\n",
       "      <td>0.754526</td>\n",
       "      <td>0.681826</td>\n",
       "      <td>0.704399</td>\n",
       "      <td>0.628773</td>\n",
       "      <td>0.632387</td>\n",
       "      <td>0.647425</td>\n",
       "      <td>0.735749</td>\n",
       "      <td>...</td>\n",
       "      <td>0.700651</td>\n",
       "      <td>0.654188</td>\n",
       "      <td>0.635314</td>\n",
       "      <td>0.751129</td>\n",
       "      <td>0.616588</td>\n",
       "      <td>0.710963</td>\n",
       "      <td>0.653693</td>\n",
       "      <td>0.691396</td>\n",
       "      <td>0.674974</td>\n",
       "      <td>0.716906</td>\n",
       "    </tr>\n",
       "    <tr>\n",
       "      <td>max</td>\n",
       "      <td>122.699596</td>\n",
       "      <td>3.312053</td>\n",
       "      <td>2.762553</td>\n",
       "      <td>3.484096</td>\n",
       "      <td>2.958997</td>\n",
       "      <td>3.565985</td>\n",
       "      <td>3.417453</td>\n",
       "      <td>4.200607</td>\n",
       "      <td>3.049466</td>\n",
       "      <td>2.882913</td>\n",
       "      <td>...</td>\n",
       "      <td>3.701033</td>\n",
       "      <td>2.805071</td>\n",
       "      <td>3.779385</td>\n",
       "      <td>2.752685</td>\n",
       "      <td>3.509434</td>\n",
       "      <td>3.205691</td>\n",
       "      <td>3.521335</td>\n",
       "      <td>3.508425</td>\n",
       "      <td>3.937568</td>\n",
       "      <td>3.127471</td>\n",
       "    </tr>\n",
       "  </tbody>\n",
       "</table>\n",
       "<p>8 rows × 1001 columns</p>\n",
       "</div>"
      ],
      "text/plain": [
       "                 y           X1           X2           X3           X4  \\\n",
       "count  1000.000000  1000.000000  1000.000000  1000.000000  1000.000000   \n",
       "mean      0.973463     0.023288    -0.049999     0.035428    -0.001712   \n",
       "std      13.256483     0.991841     1.006799     1.014789     1.028246   \n",
       "min    -238.664375    -2.803930    -3.040821    -3.131877    -2.948815   \n",
       "25%      -0.619232    -0.669358    -0.713947    -0.629200    -0.666953   \n",
       "50%       0.788955     0.027602    -0.039843    -0.014024     0.037908   \n",
       "75%       2.374469     0.687430     0.642530     0.754526     0.681826   \n",
       "max     122.699596     3.312053     2.762553     3.484096     2.958997   \n",
       "\n",
       "                X5           X6           X7           X8           X9  ...  \\\n",
       "count  1000.000000  1000.000000  1000.000000  1000.000000  1000.000000  ...   \n",
       "mean      0.015169    -0.008052    -0.029885    -0.012755     0.040996  ...   \n",
       "std       1.021380     0.955916     1.010338     1.022051     0.961945  ...   \n",
       "min      -3.531438    -3.377890    -3.829989    -4.109165    -3.233004  ...   \n",
       "25%      -0.612824    -0.645238    -0.650667    -0.727027    -0.613812  ...   \n",
       "50%       0.054550     0.008866    -0.061064     0.013491     0.019829  ...   \n",
       "75%       0.704399     0.628773     0.632387     0.647425     0.735749  ...   \n",
       "max       3.565985     3.417453     4.200607     3.049466     2.882913  ...   \n",
       "\n",
       "              X991         X992         X993         X994         X995  \\\n",
       "count  1000.000000  1000.000000  1000.000000  1000.000000  1000.000000   \n",
       "mean      0.044867    -0.003113     0.015413     0.023625    -0.035813   \n",
       "std       0.982041     0.965937     0.968151     1.007564     0.970728   \n",
       "min      -2.668022    -2.925431    -3.334320    -2.781584    -3.856230   \n",
       "25%      -0.615754    -0.650306    -0.632708    -0.682130    -0.665218   \n",
       "50%       0.061542     0.005622     0.053131     0.050225    -0.061419   \n",
       "75%       0.700651     0.654188     0.635314     0.751129     0.616588   \n",
       "max       3.701033     2.805071     3.779385     2.752685     3.509434   \n",
       "\n",
       "              X996         X997         X998         X999        X1000  \n",
       "count  1000.000000  1000.000000  1000.000000  1000.000000  1000.000000  \n",
       "mean      0.043011     0.051107     0.005640     0.010450     0.018511  \n",
       "std       0.957619     0.957190     1.027877     0.999896     1.008089  \n",
       "min      -2.676957    -2.896714    -3.167082    -3.760697    -3.658034  \n",
       "25%      -0.623901    -0.632976    -0.711479    -0.674730    -0.663400  \n",
       "50%       0.098674     0.051580     0.022772    -0.017848     0.009733  \n",
       "75%       0.710963     0.653693     0.691396     0.674974     0.716906  \n",
       "max       3.205691     3.521335     3.508425     3.937568     3.127471  \n",
       "\n",
       "[8 rows x 1001 columns]"
      ]
     },
     "execution_count": 14,
     "metadata": {},
     "output_type": "execute_result"
    }
   ],
   "source": [
    "data2 = pd.DataFrame(np.c_[y.reshape(-1,1),X], columns = ['y'] + [f'X{p+1}' for p in range(P)])\n",
    "data2.describe()"
   ]
  },
  {
   "cell_type": "markdown",
   "metadata": {},
   "source": [
    "### Proposed (HSIC)"
   ]
  },
  {
   "cell_type": "code",
   "execution_count": 15,
   "metadata": {},
   "outputs": [
    {
     "data": {
      "text/plain": [
       "True"
      ]
     },
     "execution_count": 15,
     "metadata": {},
     "output_type": "execute_result"
    }
   ],
   "source": [
    "model_PH2 = api.Proposed_HSIC_Lasso(lam = [np.inf,4e-6])\n",
    "model_PH2.input(X,y,featname = data2.columns[1:])"
   ]
  },
  {
   "cell_type": "code",
   "execution_count": 16,
   "metadata": {},
   "outputs": [
    {
     "name": "stdout",
     "output_type": "stream",
     "text": [
      "Block HSIC Lasso B = 20.\n",
      "M set to 3.\n",
      "Using Gaussian kernel for the features and Gaussian kernel for the target.\n"
     ]
    }
   ],
   "source": [
    "model_PH2.regression_multi(kernels=['Gaussian'])"
   ]
  },
  {
   "cell_type": "code",
   "execution_count": 17,
   "metadata": {},
   "outputs": [
    {
     "data": {
      "image/png": "[encoded data removed]",
      "text/plain": [
       "<Figure size 1600x1200 with 1 Axes>"
      ]
     },
     "metadata": {
      "needs_background": "light"
     },
     "output_type": "display_data"
    }
   ],
   "source": [
    "plt.figure(figsize=[8,6], dpi=200)\n",
    "plt.bar(np.arange(20),model_PH2.get_index_score()[:20])\n",
    "plt.xticks(np.arange(20),model_PH2.get_features()[:20], rotation=40)\n",
    "plt.grid()\n",
    "plt.show()"
   ]
  },
  {
   "cell_type": "markdown",
   "metadata": {},
   "source": [
    "### Proposed (NOCCO)"
   ]
  },
  {
   "cell_type": "code",
   "execution_count": 18,
   "metadata": {},
   "outputs": [
    {
     "data": {
      "text/plain": [
       "True"
      ]
     },
     "execution_count": 18,
     "metadata": {},
     "output_type": "execute_result"
    }
   ],
   "source": [
    "model_PN2 = api.Proposed_NOCCO_Lasso(lam = [np.inf,2e-5], eps = 1e-3)\n",
    "model_PN2.input(X,y,featname = data2.columns[1:])"
   ]
  },
  {
   "cell_type": "code",
   "execution_count": 19,
   "metadata": {},
   "outputs": [
    {
     "name": "stdout",
     "output_type": "stream",
     "text": [
      "Block HSIC Lasso B = 20.\n",
      "M set to 3.\n",
      "Using Gaussian kernel for the features and Gaussian kernel for the target.\n"
     ]
    }
   ],
   "source": [
    "model_PN2.regression_multi(kernels=['Gaussian'])"
   ]
  },
  {
   "cell_type": "code",
   "execution_count": 20,
   "metadata": {},
   "outputs": [
    {
     "data": {
      "image/png": "[encoded data removed]",
      "text/plain": [
       "<Figure size 1600x1200 with 1 Axes>"
      ]
     },
     "metadata": {
      "needs_background": "light"
     },
     "output_type": "display_data"
    }
   ],
   "source": [
    "plt.figure(figsize=[8,6], dpi=200)\n",
    "plt.bar(np.arange(20),model_PN2.get_index_score()[:20])\n",
    "plt.xticks(np.arange(20),model_PN2.get_features()[:20], rotation=40)\n",
    "plt.grid()\n",
    "plt.show()"
   ]
  },
  {
   "cell_type": "code",
   "execution_count": null,
   "metadata": {},
   "outputs": [],
   "source": []
  },
  {
   "cell_type": "code",
   "execution_count": null,
   "metadata": {},
   "outputs": [],
   "source": []
  },
  {
   "cell_type": "code",
   "execution_count": null,
   "metadata": {},
   "outputs": [],
   "source": []
  }
 ],
 "metadata": {
  "kernelspec": {
   "display_name": "Python 3",
   "language": "python",
   "name": "python3"
  },
  "language_info": {
   "codemirror_mode": {
    "name": "ipython",
    "version": 3
   },
   "file_extension": ".py",
   "mimetype": "text/x-python",
   "name": "python",
   "nbconvert_exporter": "python",
   "pygments_lexer": "ipython3",
   "version": "3.7.3"
  }
 },
 "nbformat": 4,
 "nbformat_minor": 4
}
